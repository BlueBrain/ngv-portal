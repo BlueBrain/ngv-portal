{
 "cells": [
  {
   "cell_type": "markdown",
   "id": "73728c89",
   "metadata": {},
   "source": [
    "## this code will:\n",
    "#### - generate a new svg with classes and parent-id attribute using the 'context' defined in group_names\n",
    "#### - modified the ngv_portal_metab_model_v1_processed.json to change a bit the format of the file produced by Polina\n",
    "\n",
    "## before run it:\n",
    "#### 1) Open the [original](https://bbpteam.epfl.ch/project/issues/browse/NGVDISS-351?focusedCommentId=169995&page=com.atlassian.jira.plugin.system.issuetabpanels:comment-tabpanel#comment-169995) svg in draw.io.\n",
    "#### 2) Activate the 'plugins/svgdata.js' in Extra -> Plugins so an ID is added to each element\n",
    "#### 3) Export it as XML file. It has the information about ID and parent group.\n",
    "#### 3) Save the svg so the pluging adds the ids\n"
   ]
  },
  {
   "cell_type": "code",
   "execution_count": 173,
   "id": "ab787637",
   "metadata": {},
   "outputs": [],
   "source": [
    "XML_FILE_PATH = './model_components_svg_v4.drawio.xml'\n",
    "SVG_FILE_PATH = './model_components_svg_v4.svg'\n",
    "SVG_OUTPUT_FILE_PATH = './model_components_svg_v4_processed.svg'"
   ]
  },
  {
   "cell_type": "code",
   "execution_count": 174,
   "id": "783b32c5",
   "metadata": {},
   "outputs": [],
   "source": [
    "from lxml import etree\n",
    "import json\n",
    "import re"
   ]
  },
  {
   "cell_type": "markdown",
   "id": "00c65a4a",
   "metadata": {},
   "source": [
    "# fetch all child nodes and parents"
   ]
  },
  {
   "cell_type": "code",
   "execution_count": 175,
   "id": "c911d590",
   "metadata": {},
   "outputs": [
    {
     "data": {
      "text/plain": [
       "653"
      ]
     },
     "execution_count": 175,
     "metadata": {},
     "output_type": "execute_result"
    }
   ],
   "source": [
    "root = etree.parse(XML_FILE_PATH).getroot()\n",
    "# get all items\n",
    "items = root.findall('.//mxCell')\n",
    "len(items)"
   ]
  },
  {
   "cell_type": "code",
   "execution_count": 176,
   "id": "9202ff5f",
   "metadata": {},
   "outputs": [
    {
     "data": {
      "text/plain": [
       "'518'"
      ]
     },
     "execution_count": 176,
     "metadata": {},
     "output_type": "execute_result"
    }
   ],
   "source": [
    "i = items[544]\n",
    "i.get('parent')"
   ]
  },
  {
   "cell_type": "code",
   "execution_count": 177,
   "id": "22fad9c6",
   "metadata": {},
   "outputs": [
    {
     "name": "stdout",
     "output_type": "stream",
     "text": [
      "['518', '567', '619', '623', 'd4GJFtNBkq4fSjHgL4VR-654']\n"
     ]
    }
   ],
   "source": [
    "# create map from element_id and parent 'context'\n",
    "parent_mapping = {}\n",
    "full_parent_list = []\n",
    "parent_child_mapping = {} # to test\n",
    "\n",
    "for item in items:\n",
    "  parent_id = item.get('parent')\n",
    "  if parent_id is None or parent_id in ['0', '1']:\n",
    "    continue # skip also the elements with no group\n",
    "\n",
    "  child_id = item.get('id')\n",
    "\n",
    "  if parent_id in parent_child_mapping:\n",
    "    parent_child_mapping[parent_id].append(item.get('value'))\n",
    "  else:\n",
    "    parent_child_mapping[parent_id] = [item.get('value')]\n",
    "  \n",
    "  parent_mapping[child_id] = parent_id\n",
    "  full_parent_list.append(parent_id) if parent_id not in full_parent_list else full_parent_list\n",
    "  \n",
    "print(full_parent_list)"
   ]
  },
  {
   "cell_type": "code",
   "execution_count": 178,
   "id": "5ab07129",
   "metadata": {},
   "outputs": [],
   "source": [
    "# parent_mapping\n",
    "# parent_child_mapping"
   ]
  },
  {
   "cell_type": "markdown",
   "id": "cd5299d7",
   "metadata": {},
   "source": [
    "### assign names to the 'contexts' above\n",
    "\n",
    "if the SVG change, then these ids will change\n",
    "\n",
    "to generate it pick element in the svg and check the property id. in the xml check the parent."
   ]
  },
  {
   "cell_type": "code",
   "execution_count": 179,
   "id": "ba63d638",
   "metadata": {},
   "outputs": [],
   "source": [
    "group_names = {\n",
    "  '619': 'blood-vessel',\n",
    "  '623': 'neuron-cytosol', \n",
    "  'd4GJFtNBkq4fSjHgL4VR-654': 'neuron-mitochondrion',\n",
    "  '518': 'astrocyte-cytosol',\n",
    "  '567': 'astrocyte-mitochondrion',\n",
    "}"
   ]
  },
  {
   "cell_type": "code",
   "execution_count": 180,
   "id": "d37eb5cb",
   "metadata": {},
   "outputs": [],
   "source": [
    "# with open('./parent_mapping.json', 'w') as f:\n",
    "#   f.write(json.dumps(parent_mapping))"
   ]
  },
  {
   "cell_type": "markdown",
   "id": "234389c2",
   "metadata": {},
   "source": [
    "# Add class to SVG"
   ]
  },
  {
   "cell_type": "code",
   "execution_count": 181,
   "id": "7f951d60",
   "metadata": {},
   "outputs": [],
   "source": [
    "root_svg = etree.parse(SVG_FILE_PATH).getroot()"
   ]
  },
  {
   "cell_type": "markdown",
   "id": "22561f89",
   "metadata": {},
   "source": [
    "### cleanup pointer events"
   ]
  },
  {
   "cell_type": "code",
   "execution_count": 182,
   "id": "23bda779",
   "metadata": {},
   "outputs": [
    {
     "name": "stdout",
     "output_type": "stream",
     "text": [
      "1155\n"
     ]
    }
   ],
   "source": [
    "# delete pointer event as attribute\n",
    "counter = 0\n",
    "for elem in root_svg.xpath(\".//*[@pointer-events]\"):\n",
    "  if 'pointer-events' not in elem.attrib: continue\n",
    "  counter += 1\n",
    "  del elem.attrib['pointer-events']\n",
    "print(counter)"
   ]
  },
  {
   "cell_type": "code",
   "execution_count": 183,
   "id": "eabba581",
   "metadata": {
    "scrolled": true
   },
   "outputs": [
    {
     "name": "stdout",
     "output_type": "stream",
     "text": [
      "386\n"
     ]
    }
   ],
   "source": [
    "# delete pointer event in element style\n",
    "counter = 0\n",
    "for elem in root_svg.xpath(\".//*[contains(@style,'pointer-events')]\"):\n",
    "  new_style = elem.get('style').replace('pointer-events: none;', '').replace('pointer-events: all;', '')\n",
    "  elem.set('style', new_style)\n",
    "  counter += 1\n",
    "print(counter)"
   ]
  },
  {
   "cell_type": "code",
   "execution_count": 184,
   "id": "b49c67ed",
   "metadata": {},
   "outputs": [],
   "source": [
    "# add none to root svg to it let the internal elements to be clicked\n",
    "svg_style = root_svg.get('style')\n",
    "new_style = svg_style + 'pointer-events: none;'\n",
    "root_svg.set('style', new_style)"
   ]
  },
  {
   "cell_type": "markdown",
   "id": "5c620eaf",
   "metadata": {},
   "source": [
    "### add class to clickable elements"
   ]
  },
  {
   "cell_type": "code",
   "execution_count": 185,
   "id": "c7c13337",
   "metadata": {},
   "outputs": [],
   "source": [
    "pointer_style = 'pointer-events: all;'\n",
    "\n",
    "def add_pointer_style(element):\n",
    "  elem_style = element.get('style')\n",
    "  new_elem_style = None\n",
    "  if elem_style is None:\n",
    "    new_elem_style = pointer_style\n",
    "  else:\n",
    "    if elem_style.endswith(';'):\n",
    "      new_elem_style = elem_style + pointer_style\n",
    "    else:\n",
    "      new_elem_style = elem_style + ';' + pointer_style\n",
    "\n",
    "  element.set('style', new_elem_style)\n",
    "\n",
    "\n",
    "def bubble_up_till_id(element):\n",
    "  if element is None:\n",
    "    return None\n",
    "  id = element.get('id')\n",
    "  if id is None:\n",
    "    return bubble_up_till_id(element.getparent())\n",
    "  return element"
   ]
  },
  {
   "cell_type": "code",
   "execution_count": 186,
   "id": "6a3213ea",
   "metadata": {},
   "outputs": [],
   "source": [
    "clickable_counter = 0\n",
    "not_clickable_counter = 0\n",
    "\n",
    "elem_query_str = './/{http://www.w3.org/1999/xhtml}font'\n",
    "\n",
    "found_elements = root_svg.findall(elem_query_str)\n",
    "\n",
    "clickable_elements_list = []"
   ]
  },
  {
   "cell_type": "code",
   "execution_count": 187,
   "id": "8c062828",
   "metadata": {},
   "outputs": [
    {
     "name": "stdout",
     "output_type": "stream",
     "text": [
      "Clickable: 121 / 190\n"
     ]
    }
   ],
   "source": [
    "for element in found_elements:\n",
    "  element_g = bubble_up_till_id(element)\n",
    "  if element_g is None:\n",
    "    continue\n",
    "\n",
    "  cell_id = element_g.get('id')\n",
    "  elem_id = cell_id.replace('cell-', '')\n",
    "\n",
    "  # process only the element which parent is in defined contexts\n",
    "  parent_id = parent_mapping[elem_id] if elem_id in parent_mapping else None\n",
    "  if parent_id is None:\n",
    "    not_clickable_counter += 1\n",
    "    continue\n",
    "\n",
    "  element.set('class', 'clickable')\n",
    "  element.set('parent-id', group_names[parent_id])\n",
    "  add_pointer_style(element)\n",
    "  clickable_counter += 1\n",
    "  clickable_elements_list.append(element)\n",
    "\n",
    "print(f'Clickable: {clickable_counter} / {clickable_counter + not_clickable_counter}')"
   ]
  },
  {
   "cell_type": "markdown",
   "id": "129c39f3",
   "metadata": {},
   "source": [
    "### fix issue with 'vasculature dynamics' that is one element but drawio divided in two."
   ]
  },
  {
   "cell_type": "code",
   "execution_count": 188,
   "id": "d0c42420",
   "metadata": {},
   "outputs": [],
   "source": [
    "output_str = etree.tostring(root_svg, pretty_print=False).decode('utf-8')"
   ]
  },
  {
   "cell_type": "code",
   "execution_count": 189,
   "id": "3fc24ac6",
   "metadata": {},
   "outputs": [],
   "source": [
    "output_str_fixed = re.sub(r'(?<=>vasculature).+?>(?=dynamics<)', ' ', output_str)"
   ]
  },
  {
   "cell_type": "markdown",
   "id": "0836beb5",
   "metadata": {},
   "source": [
    "### save to file\n",
    "(on-click not working when importing)"
   ]
  },
  {
   "cell_type": "code",
   "execution_count": 190,
   "id": "f3e8a260",
   "metadata": {},
   "outputs": [],
   "source": [
    "f = open(SVG_OUTPUT_FILE_PATH, 'w')\n",
    "f.write(output_str_fixed)\n",
    "f.close()"
   ]
  },
  {
   "cell_type": "markdown",
   "id": "d03e9c56",
   "metadata": {},
   "source": [
    "### (for debugging) copy svg to index.html (to test)"
   ]
  },
  {
   "cell_type": "code",
   "execution_count": 37,
   "id": "f055a85c",
   "metadata": {},
   "outputs": [],
   "source": [
    "f = open('index.html', 'r')\n",
    "html = f.read()\n",
    "f.close()"
   ]
  },
  {
   "cell_type": "code",
   "execution_count": 38,
   "id": "f026f247",
   "metadata": {},
   "outputs": [],
   "source": [
    "import re\n",
    "content = etree.tostring(root_svg, pretty_print=False).decode('utf-8').replace('\\n', '')\n",
    "\n",
    "new_html = re.sub(\n",
    "  r'<span class=\"svg-container\">(.*)<\\/span>',\n",
    "  f'<span class=\"svg-container\">{content}</span>',\n",
    "#   f'<span class=\"svg-container\"></span>',\n",
    "  html,\n",
    ")"
   ]
  },
  {
   "cell_type": "code",
   "execution_count": 39,
   "id": "94f2ad7c",
   "metadata": {},
   "outputs": [],
   "source": [
    "f = open('index.html', 'w')\n",
    "f.write(new_html)\n",
    "f.close()"
   ]
  },
  {
   "cell_type": "markdown",
   "id": "2b3fe80a",
   "metadata": {},
   "source": [
    "### generate list for intemediate mapping\n",
    "We need to map the svg click to the actual [information dictionary](https://bbpgitlab.epfl.ch/molsys/metabolismndam/-/blob/main/sim/metabolism_unit_models/FINAL_CLEAN/data_model_full/ngv_portal_metab_model_v1.json). To do that I generated an array with all the 'innerText--parent' and Polina mapped those with the actual entry on the information dict linked above.\n",
    "\n",
    "What I created\n",
    "```\n",
    "[\n",
    "  \"Thiolase--neuron-mitochondrion\",\n",
    "  \"SDH--neuron-mitochondrion\",\n",
    "  ...\n",
    "]\n",
    "```\n",
    "What Polina [produced](https://bbpgitlab.epfl.ch/molsys/metabolismndam/-/blob/main/sim/metabolism_unit_models/FINAL_CLEAN/data_model_full/ngvportal_imgpicker_mapping_dict.json)\n",
    "```\n",
    "{\n",
    "  \"Thiolase--neuron-mitochondrion\": [\"Ketones_thiolase\"],\n",
    "  ...\n",
    "}\n",
    "```"
   ]
  },
  {
   "cell_type": "code",
   "execution_count": 195,
   "id": "ea890e07",
   "metadata": {},
   "outputs": [],
   "source": [
    "intermediate_mapping_list = []\n",
    "for clickable_elem in clickable_elements_list:\n",
    "  parent_id = clickable_elem.get('parent-id')\n",
    "  text = clickable_elem.text\n",
    "  context_name = parent_id\n",
    "  intermediate_mapping_list.append(f'{text}--{context_name}')"
   ]
  },
  {
   "cell_type": "code",
   "execution_count": 196,
   "id": "8738e77b",
   "metadata": {},
   "outputs": [
    {
     "data": {
      "text/plain": [
       "['HK--astrocyte-cytosol',\n",
       " 'GPa--astrocyte-cytosol',\n",
       " 'PGLM--astrocyte-cytosol',\n",
       " 'PGI--astrocyte-cytosol',\n",
       " 'PFK--astrocyte-cytosol']"
      ]
     },
     "execution_count": 196,
     "metadata": {},
     "output_type": "execute_result"
    }
   ],
   "source": [
    "intermediate_mapping_list[:5]"
   ]
  },
  {
   "cell_type": "markdown",
   "id": "841a4d22",
   "metadata": {},
   "source": [
    "There is a small issue with `Na+,K+-ATPase` that the text that lxml fetches is only `Na`"
   ]
  },
  {
   "cell_type": "code",
   "execution_count": 197,
   "id": "b3313fe1",
   "metadata": {},
   "outputs": [
    {
     "name": "stdout",
     "output_type": "stream",
     "text": [
      "Na--astrocyte-cytosol\n",
      "Na--neuron-cytosol\n",
      "elements were modified\n"
     ]
    }
   ],
   "source": [
    "match_indexes = []\n",
    "for index, item in enumerate(intermediate_mapping_list):\n",
    "  if item.startswith('Na--'):\n",
    "    match_indexes.append(index)\n",
    "    print(item)\n",
    "\n",
    "for match_index in match_indexes:\n",
    "  intermediate_mapping_list[match_index] = intermediate_mapping_list[match_index].replace('Na--', 'Na+,K+-ATPase--')\n",
    "print('elements were modified')"
   ]
  },
  {
   "cell_type": "code",
   "execution_count": 198,
   "id": "6cd9a741",
   "metadata": {},
   "outputs": [],
   "source": [
    "f = open('intermediate_mapping_list.json', 'w')\n",
    "f.write(json.dumps(intermediate_mapping_list, indent=2))\n",
    "f.close()"
   ]
  },
  {
   "cell_type": "markdown",
   "id": "36af4072",
   "metadata": {},
   "source": [
    "### transform a bit the ngv_portal_metab_model_v1.json \n",
    "converting array of dicts to dict `[ { \"MCT1_LAC_a_J\": {} }, {} ]` to `{ \"MCT1_LAC_a_J\": {}, \"\" }`"
   ]
  },
  {
   "cell_type": "code",
   "execution_count": 132,
   "id": "3e9ca2c9",
   "metadata": {},
   "outputs": [],
   "source": [
    "model_full_info_file = './ngv_portal_metab_model_v2.json'"
   ]
  },
  {
   "cell_type": "code",
   "execution_count": 133,
   "id": "e275eb0d",
   "metadata": {},
   "outputs": [],
   "source": [
    "f = open(model_full_info_file, 'r')\n",
    "enzymes_info = json.loads(f.read())\n",
    "f.close()"
   ]
  },
  {
   "cell_type": "code",
   "execution_count": 134,
   "id": "88333825",
   "metadata": {},
   "outputs": [],
   "source": [
    "new_enzymes_info = {}\n",
    "\n",
    "for item in enzymes_info:\n",
    "  key = list(item.keys())[0]\n",
    "  value = list(item.values())[0]\n",
    "  new_enzymes_info[key] = value"
   ]
  },
  {
   "cell_type": "code",
   "execution_count": 135,
   "id": "139e792b",
   "metadata": {},
   "outputs": [],
   "source": [
    "# new_enzymes_info"
   ]
  },
  {
   "cell_type": "code",
   "execution_count": 136,
   "id": "5c4d198f",
   "metadata": {},
   "outputs": [],
   "source": [
    "f = open(model_full_info_file.replace('.json', '_processed.json'), 'w')\n",
    "f.write(json.dumps(new_enzymes_info))\n",
    "f.close()"
   ]
  },
  {
   "cell_type": "code",
   "execution_count": null,
   "id": "cc2c7170",
   "metadata": {},
   "outputs": [],
   "source": []
  },
  {
   "cell_type": "code",
   "execution_count": null,
   "id": "824ecb5a",
   "metadata": {},
   "outputs": [],
   "source": []
  }
 ],
 "metadata": {
  "kernelspec": {
   "display_name": "Python 3 (ipykernel)",
   "language": "python",
   "name": "python3"
  },
  "language_info": {
   "codemirror_mode": {
    "name": "ipython",
    "version": 3
   },
   "file_extension": ".py",
   "mimetype": "text/x-python",
   "name": "python",
   "nbconvert_exporter": "python",
   "pygments_lexer": "ipython3",
   "version": "3.9.9"
  }
 },
 "nbformat": 4,
 "nbformat_minor": 5
}
