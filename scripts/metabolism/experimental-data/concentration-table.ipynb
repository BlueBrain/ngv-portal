{
 "cells": [
  {
   "cell_type": "markdown",
   "metadata": {},
   "source": [
    "# Extract information to generate the concentration table"
   ]
  },
  {
   "cell_type": "markdown",
   "metadata": {},
   "source": [
    "## Process file"
   ]
  },
  {
   "cell_type": "code",
   "execution_count": null,
   "metadata": {},
   "outputs": [],
   "source": [
    "SEPARATOR_STR = ' | '\n",
    "ID_STR = 'id'\n",
    "NAME_STR = 'name'\n",
    "VALUE_STR = 'value'\n",
    "REFERENCE_STR = 'ref'"
   ]
  },
  {
   "cell_type": "code",
   "execution_count": null,
   "metadata": {},
   "outputs": [],
   "source": [
    "with open('./variables_initial_values_descriptive_cleaned_u0_db_refined_selected_oct2021.jl', 'r') as f:\n",
    "  julia_file_lines = f.readlines()"
   ]
  },
  {
   "cell_type": "code",
   "execution_count": null,
   "metadata": {},
   "outputs": [],
   "source": [
    "julia_file_lines[2]"
   ]
  },
  {
   "cell_type": "code",
   "execution_count": null,
   "metadata": {},
   "outputs": [],
   "source": [
    "processed_data = []\n",
    "\n",
    "for line in julia_file_lines:\n",
    "  if line.startswith('variable') or line.startswith('\\n'):\n",
    "    continue\n",
    "\n",
    "  [id, name, val, ref] = line.split(SEPARATOR_STR)\n",
    "\n",
    "  processed_data.append({\n",
    "    ID_STR: id,\n",
    "    NAME_STR: name,\n",
    "    VALUE_STR: val,\n",
    "    REFERENCE_STR: ref,\n",
    "  })"
   ]
  },
  {
   "cell_type": "code",
   "execution_count": null,
   "metadata": {},
   "outputs": [],
   "source": [
    "processed_data[0]"
   ]
  },
  {
   "cell_type": "markdown",
   "metadata": {},
   "source": [
    "## Find references DOI"
   ]
  },
  {
   "cell_type": "code",
   "execution_count": null,
   "metadata": {},
   "outputs": [],
   "source": [
    "import re\n",
    "import requests\n",
    "from urllib.parse import unquote\n",
    "\n",
    "DOI_REGEXP = r'DOI:(.+?)[;\\n\\s]'\n",
    "TITLE_REGEXP = r'<title>(.+)<\\/title>'\n",
    "DOI_API_URL = 'https://doi.org/api/handles'\n",
    "PUBMED_API = 'https://pubmed.ncbi.nlm.nih.gov'\n",
    "REDIRECTION_DETECTION_URL = '<meta.+?Redirect=(.+?)via.+?\\/>'\n",
    "\n",
    "class ReferenceConstants():\n",
    "  TITLE = 'title'\n",
    "  URL = 'url'\n",
    "\n",
    "referenceConstants = ReferenceConstants()\n",
    "cache_data = {}"
   ]
  },
  {
   "cell_type": "code",
   "execution_count": null,
   "metadata": {},
   "outputs": [],
   "source": [
    "# Fill manually the references that are not found\n",
    "manual_doi_titles = {\n",
    "  '10.1016/S0021-9258(18)83418-4': {\n",
    "    'title': 'Effects of Changes in Brain Metabolism on Levels of Pentose Phosphate Pathway Intermediates',\n",
    "    'url': 'https://linkinghub.elsevier.com/retrieve/pii/S0021925818834184',\n",
    "  },\n",
    "  '10.1016/0301-0082(94)90015-9': {\n",
    "    'title': 'Ions and energy in mammalian brain',\n",
    "    'url': 'https://linkinghub.elsevier.com/retrieve/pii/0301008294900159'\n",
    "  },\n",
    "  '10.1016/S0021-9258(18)91886-7': {\n",
    "    'title': 'Purification and Specific Kinetic Properties of Erythrocyte Uridine Diphosphate Glucose Pyrophosphorylase',\n",
    "    'url': 'https://linkinghub.elsevier.com/retrieve/pii/S0021925818918867',\n",
    "  },\n",
    "  '10.1016/0020-711X(80)90115-9': {\n",
    "    'title': 'Kinetic models of glycogen metabolism in normal rat liver, morris Hepatom 7787 and host liver',\n",
    "    'url': 'https://linkinghub.elsevier.com/retrieve/pii/0020711X80901159',\n",
    "  },\n",
    "  '10.1016/0301-0082(93)90022-K': {\n",
    "    'title': 'Glucose and ketone body utilization by the brain of neonatal rats',\n",
    "    'url': 'https://linkinghub.elsevier.com/retrieve/pii/030100829390022K',\n",
    "  },\n",
    "  '10.1016/S0021-9258(17)33365-3': {\n",
    "    'title': 'A relation between (NAD+)/(NADH) potentials and glucose utilization in rat brain slices.',\n",
    "    'url': 'https://linkinghub.elsevier.com/retrieve/pii/S0021925817333653',\n",
    "  },\n",
    "  '10.1016/S0021-9258(18)62854-6': {\n",
    "    'title': 'The Metabolism of Rat Brain Mitochondria: PREPARATION AND CHARACTERIZATION',\n",
    "    'url': 'https://linkinghub.elsevier.com/retrieve/pii/S0021925818628546',\n",
    "  },\n",
    "  '10.1007/978-1-4614-1788-0': {\n",
    "    'title': 'Neural Metabolism In Vivo',\n",
    "    'url': 'https://link.springer.com/book/10.1007%2F978-1-4614-1788-0',\n",
    "  },\n",
    "  '10.1088/1742-6596/1141/1/012028': {\n",
    "    'title': 'Brain glutaminases: bridging the gap between the controversial enzyme localizations',\n",
    "    'url': 'https://iopscience.iop.org/article/10.1088/1742-6596/1141/1/012028',\n",
    "  },\n",
    "}\n",
    "\n",
    "def find_info_doi_api(doi_reference):\n",
    "  # use the doi api to get the url\n",
    "  # url = f'{DOI_API_URL}/{doi_reference}'\n",
    "  # doi_api_response = requests.get(url)\n",
    "  # paper_url = doi_api_response.json()['values'][0]['data']['value']\n",
    "  info = manual_doi_titles[doi_reference.upper()]\n",
    "  print('Using the manual titles')\n",
    "  return info['title'], info['url']"
   ]
  },
  {
   "cell_type": "code",
   "execution_count": null,
   "metadata": {},
   "outputs": [],
   "source": [
    "def find_title_from_html(url):\n",
    "  response = requests.get(url)\n",
    "  if not response.ok:\n",
    "    print(f'Error fetching title: {response.request.url}')\n",
    "    print(response.text)\n",
    "    return None\n",
    "\n",
    "  return re.search(TITLE_REGEXP, response.text).group(1)\n",
    "\n",
    "def get_reference_html_info(doi_reference):\n",
    "  ref_url = f'{PUBMED_API}/?term={doi_reference}'\n",
    "  if ref_url in cache_data:\n",
    "    return cache_data[ref_url]\n",
    "\n",
    "  title = find_title_from_html(ref_url)\n",
    "  \n",
    "  pruned_title = None\n",
    "  paper_url = None\n",
    "  \n",
    "  if title is not None and title != '':\n",
    "    pruned_title = title.replace(' - PubMed', '')\n",
    "    paper_url = ref_url\n",
    "  else:\n",
    "    return None\n",
    "  \n",
    "  if ' - Search Results' in title:\n",
    "    # article not found in PubMed. Use DOI api\n",
    "    pruned_title, paper_url = find_info_doi_api(doi_reference)\n",
    "\n",
    "  result_info = {\n",
    "    referenceConstants.TITLE: pruned_title,\n",
    "    referenceConstants.URL: paper_url,\n",
    "  }\n",
    "\n",
    "  cache_data[ref_url] = result_info\n",
    "  return result_info\n",
    "\n",
    "def get_reference_info(raw_reference):\n",
    "  ref_matches = re.findall(DOI_REGEXP, raw_reference)\n",
    "  refs_info = []\n",
    "\n",
    "  for match in ref_matches:\n",
    "    doi_ref = match.replace(' ', '')\n",
    "    info = get_reference_html_info(doi_ref)\n",
    "    refs_info.append(info)\n",
    "\n",
    "  return refs_info"
   ]
  },
  {
   "cell_type": "code",
   "execution_count": null,
   "metadata": {},
   "outputs": [],
   "source": [
    "ref_info_by_id = {}\n",
    "\n",
    "for ref in processed_data:\n",
    "  raw_reference = ref[REFERENCE_STR]\n",
    "  ref_info_by_id[ref[ID_STR]] = get_reference_info(raw_reference)"
   ]
  },
  {
   "cell_type": "code",
   "execution_count": null,
   "metadata": {},
   "outputs": [],
   "source": [
    "ref_info_by_id['VNeu0']"
   ]
  },
  {
   "cell_type": "markdown",
   "metadata": {},
   "source": [
    "## Save reference file"
   ]
  },
  {
   "cell_type": "code",
   "execution_count": null,
   "metadata": {},
   "outputs": [],
   "source": [
    "import json\n",
    "\n",
    "def save_file(filename, data):\n",
    "  with open(filename, 'w') as f:\n",
    "    f.write(json.dumps(data))"
   ]
  },
  {
   "cell_type": "code",
   "execution_count": null,
   "metadata": {},
   "outputs": [],
   "source": [
    "save_file('concentration_table_ref_titles.json', ref_info_by_id)"
   ]
  },
  {
   "cell_type": "markdown",
   "metadata": {},
   "source": [
    "## Integrate all the table fields in one file"
   ]
  },
  {
   "cell_type": "code",
   "execution_count": null,
   "metadata": {},
   "outputs": [],
   "source": [
    "full_table_content = []\n",
    "\n",
    "for line in processed_data:\n",
    "  result = {\n",
    "    ID_STR: line[ID_STR],\n",
    "    NAME_STR: line[NAME_STR],\n",
    "    VALUE_STR: line[VALUE_STR],\n",
    "    'reference_raw': line[REFERENCE_STR],\n",
    "    'reference_info': ref_info_by_id[line[ID_STR]],\n",
    "  }\n",
    "  full_table_content.append(result)"
   ]
  },
  {
   "cell_type": "code",
   "execution_count": null,
   "metadata": {},
   "outputs": [],
   "source": [
    "save_file('concentration_table_full.json', full_table_content)"
   ]
  }
 ],
 "metadata": {
  "interpreter": {
   "hash": "31f2aee4e71d21fbe5cf8b01ff0e069b9275f58929596ceb00d14d90e3e16cd6"
  },
  "kernelspec": {
   "display_name": "ngv_kernel",
   "language": "python",
   "name": "ngv_kernel"
  },
  "language_info": {
   "codemirror_mode": {
    "name": "ipython",
    "version": 3
   },
   "file_extension": ".py",
   "mimetype": "text/x-python",
   "name": "python",
   "nbconvert_exporter": "python",
   "pygments_lexer": "ipython3",
   "version": "3.7.3"
  }
 },
 "nbformat": 4,
 "nbformat_minor": 2
}
